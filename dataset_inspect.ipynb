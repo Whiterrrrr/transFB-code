{
 "cells": [
  {
   "cell_type": "code",
   "execution_count": 20,
   "metadata": {},
   "outputs": [
    {
     "name": "stdout",
     "output_type": "stream",
     "text": [
      "\n",
      "Array for key 'episode_007743_1000':\n",
      " dict_keys(['observation', 'action', 'reward', 'discount', 'physics'])\n",
      "float64\n",
      "[[ 0.00000000e+00  0.00000000e+00  7.70000000e-01 ...  0.00000000e+00\n",
      "   0.00000000e+00  0.00000000e+00]\n",
      " [ 1.11581770e-03 -5.31706590e-04  7.67674497e-01 ... -1.06533393e-01\n",
      "  -1.85493551e-01 -1.48394847e-01]\n",
      " [ 6.55220550e-03 -3.28501335e-03  7.62468068e-01 ... -2.53016456e-01\n",
      "  -3.36579208e-01 -2.64526057e-01]\n",
      " ...\n",
      " [-8.99577523e-01  2.39802002e+00  2.55490835e-01 ...  8.59383941e-02\n",
      "  -1.60049232e-01  3.38309675e-02]\n",
      " [-8.94292457e-01  2.40585944e+00  2.55138027e-01 ...  2.43806779e-01\n",
      "  -3.09196244e-01 -9.01221004e-02]\n",
      " [-8.84999750e-01  2.41693460e+00  2.54180697e-01 ...  3.84075718e-01\n",
      "  -4.37335824e-01 -2.21799861e-01]]\n"
     ]
    }
   ],
   "source": [
    "import numpy as np\n",
    "\n",
    "npz_file = np.load('datasets/quadruped/proto/dataset.npz', allow_pickle=True)\n",
    "\n",
    "\n",
    "for key in npz_file.files:\n",
    "    array = npz_file[key]\n",
    "    print(f\"\\nArray for key '{key}':\\n\", array.item().keys())\n",
    "    print(array.item()['physics'].dtype)\n",
    "    print(array.item()['physics'])\n",
    "    break\n",
    "    "
   ]
  },
  {
   "cell_type": "code",
   "execution_count": null,
   "metadata": {},
   "outputs": [],
   "source": []
  }
 ],
 "metadata": {
  "kernelspec": {
   "display_name": ".venv",
   "language": "python",
   "name": "python3"
  },
  "language_info": {
   "codemirror_mode": {
    "name": "ipython",
    "version": 3
   },
   "file_extension": ".py",
   "mimetype": "text/x-python",
   "name": "python",
   "nbconvert_exporter": "python",
   "pygments_lexer": "ipython3",
   "version": "3.8.10"
  }
 },
 "nbformat": 4,
 "nbformat_minor": 2
}
